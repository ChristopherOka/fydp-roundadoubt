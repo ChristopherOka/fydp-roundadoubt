{
 "cells": [
  {
   "cell_type": "markdown",
   "metadata": {},
   "source": [
    "# Eye Tracker Data Analysis\n"
   ]
  },
  {
   "cell_type": "code",
   "execution_count": 1,
   "metadata": {},
   "outputs": [],
   "source": [
    "import numpy as np\n",
    "import pandas as pd\n",
    "import matplotlib.pyplot as plt\n",
    "from matplotlib.ticker import MultipleLocator\n",
    "from matplotlib.ticker import FormatStrFormatter\n",
    "\n",
    "import os\n",
    "import re\n",
    "\n",
    "import scipy.stats as stats\n",
    "import seaborn as sns\n",
    "import pingouin as pg"
   ]
  },
  {
   "cell_type": "markdown",
   "metadata": {},
   "source": [
    "## Pre-processing\n"
   ]
  },
  {
   "cell_type": "markdown",
   "metadata": {},
   "source": [
    "Clean up raw data from eye tracker software so it's easier to work with:\n"
   ]
  },
  {
   "cell_type": "code",
   "execution_count": 7,
   "metadata": {},
   "outputs": [],
   "source": [
    "raw_data_dir = raw_dir = 'Eye Tracker Data/Raw CSVs'\n",
    "processed_dir = 'Eye Tracker Data/Processed CSVs'\n",
    "\n",
    "os.makedirs(processed_dir, exist_ok=True)\n",
    "\n",
    "keywords = {\n",
    "    'rec_time': 'rec_time',\n",
    "    'gaze_x': 'Gaze_Gaze X',\n",
    "    'gaze_y': 'Gaze_Gaze Y',\n",
    "    'pupil_x': 'Original_Pupil X',\n",
    "    'pupil_y': 'Original_Pupil Y'\n",
    "}\n",
    "\n",
    "for filename in os.listdir(raw_dir):\n",
    "    if filename.endswith('_CsvData.txt'):\n",
    "        # extract participant & trial number from text file names\n",
    "        name_parts = filename.split('_')\n",
    "        participant = name_parts[0]\n",
    "        trial_part = name_parts[1].split('. ')[1]\n",
    "        trial_number = trial_part.split('_')[0]\n",
    "        new_filename = f\"{participant}_{trial_number}.csv\"\n",
    "\n",
    "        input_path = os.path.join(raw_dir, filename)\n",
    "        output_path = os.path.join(processed_dir, new_filename)\n",
    "\n",
    "        df = pd.read_csv(input_path, sep='\\t', encoding='utf-8', engine='python')\n",
    "        df.columns = df.columns.str.strip()\n",
    "\n",
    "        rec_time_col = next((col for col in df.columns if keywords['rec_time'] in col), None)\n",
    "\n",
    "        # try to find gaze x & y columns first\n",
    "        x_col = next((col for col in df.columns if keywords['gaze_x'] in col), None)\n",
    "        y_col = next((col for col in df.columns if keywords['gaze_y'] in col), None)\n",
    "\n",
    "        # if gaze x & y not found, use pupil x & y columns instead\n",
    "        if not x_col or not y_col:\n",
    "            x_col = next((col for col in df.columns if keywords['pupil_x'] in col), None)\n",
    "            y_col = next((col for col in df.columns if keywords['pupil_y'] in col), None)\n",
    "\n",
    "        if not rec_time_col or not x_col or not y_col:\n",
    "            print(f\"{filename} missing required columns.\")\n",
    "            continue\n",
    "\n",
    "        # rename columns\n",
    "        df_filtered = df[[rec_time_col, x_col, y_col]]\n",
    "        df_filtered.columns = ['rec_time', 'x', 'y']\n",
    "\n",
    "        # fix time formatting\n",
    "        df_filtered.loc[:, 'rec_time'] = df_filtered['rec_time'].astype(str).str.replace('.', ':', regex=False)\n",
    "\n",
    "        # write new CSV, named by participant name & trial only\n",
    "        df_filtered.to_csv(output_path, index=False)"
   ]
  },
  {
   "cell_type": "markdown",
   "metadata": {},
   "source": [
    "## Metric 1: Percentage of Total Fixations\n"
   ]
  },
  {
   "cell_type": "markdown",
   "metadata": {},
   "source": [
    "Helpers:\n"
   ]
  },
  {
   "cell_type": "code",
   "execution_count": null,
   "metadata": {},
   "outputs": [],
   "source": [
    "def time_to_ms(t):\n",
    "    if pd.isna(t) or t == 'N/A':\n",
    "        return None\n",
    "    try:\n",
    "        h, m, s, ms = map(int, t.split(':'))\n",
    "        return ((h * 3600 + m * 60 + s) * 1000) + ms\n",
    "    except:\n",
    "        return None\n",
    "    \n",
    "def distance(p1, p2):\n",
    "    return np.sqrt((p1[0] - p2[0])**2 + (p1[1] - p2[1])**2)\n",
    "\n",
    "def detect_fixations(df, time_threshold_ms=150, spatial_threshold=50):\n",
    "    fixations = 0\n",
    "    start_idx = 0\n",
    "\n",
    "    while start_idx < len(df):\n",
    "        if np.isnan(df.iloc[start_idx]['x']) or np.isnan(df.iloc[start_idx]['y']):\n",
    "            start_idx += 1\n",
    "            continue\n",
    "\n",
    "        cluster_points = [(df.iloc[start_idx]['x'], df.iloc[start_idx]['y'])]\n",
    "        start_time = df.iloc[start_idx]['time_ms']\n",
    "        end_idx = start_idx + 1\n",
    "\n",
    "        # this loop to detect fixations also counts smooth pursuits as \"fixations\"\n",
    "        # because this is more accurate to what was done in the manual video analysis\n",
    "        while end_idx < len(df):\n",
    "            row = df.iloc[end_idx]\n",
    "            if np.isnan(row['x']) or np.isnan(row['y']):\n",
    "                break\n",
    "\n",
    "            new_point = (row['x'], row['y'])\n",
    "            cluster_points.append(new_point)\n",
    "\n",
    "            # Calculate dynamic centroid\n",
    "            centroid = np.mean(cluster_points, axis=0)\n",
    "            # Check if all points stay within spatial threshold\n",
    "            if any(distance(p, centroid) > spatial_threshold for p in cluster_points):\n",
    "                break\n",
    "\n",
    "            end_time = row['time_ms']\n",
    "            if end_time - start_time > time_threshold_ms:\n",
    "                fixations += 1\n",
    "                break\n",
    "\n",
    "            end_idx += 1\n",
    "\n",
    "        start_idx = end_idx + 1\n",
    "\n",
    "    return fixations"
   ]
  },
  {
   "cell_type": "markdown",
   "metadata": {},
   "source": [
    "Detect number of fixations for each participant/trial combo, for each relevant window (sign visible window, and pedestrian visible window)\n"
   ]
  },
  {
   "cell_type": "code",
   "execution_count": 24,
   "metadata": {},
   "outputs": [
    {
     "name": "stdout",
     "output_type": "stream",
     "text": [
      "Pete trial 1 -- Sign window fixations: 49, Ped window fixations: 19\n",
      "Pete trial 2 -- Sign window fixations: 0, Ped window fixations: 0\n",
      "Pete trial 3 -- Sign window fixations: 0, Ped window fixations: 0\n",
      "Pete trial 4 -- Sign window fixations: 51, Ped window fixations: 52\n",
      "Pete trial 5 -- Sign window fixations: 47, Ped window fixations: 24\n",
      "Pete trial 6 -- Sign window fixations: 0, Ped window fixations: 20\n",
      "Pete trial 7 -- Sign window fixations: 63, Ped window fixations: 38\n",
      "Pete trial 8 -- Sign window fixations: 65, Ped window fixations: 29\n",
      "Pete trial 9 -- Sign window fixations: 52, Ped window fixations: 22\n",
      "Pete trial 10 -- Sign window fixations: 0, Ped window fixations: 0\n",
      "Pete trial 11 -- Sign window fixations: 32, Ped window fixations: 22\n",
      "Pete trial 12 -- Sign window fixations: 81, Ped window fixations: 116\n",
      "Pete trial 13 -- Sign window fixations: 0, Ped window fixations: 32\n",
      "Pete trial 14 -- Sign window fixations: 58, Ped window fixations: 0\n",
      "Pete trial 15 -- Sign window fixations: 72, Ped window fixations: 26\n"
     ]
    }
   ],
   "source": [
    "processed_dir = os.path.join(\"Eye Tracker Data\", 'Processed CSVs')\n",
    "timestamps_file = os.path.join(\"Eye Tracker Data\", 'Eye Tracker Fixation Timestamps.csv')\n",
    "\n",
    "fixation_df = pd.read_csv(timestamps_file)\n",
    "fixation_df.columns = fixation_df.columns.str.strip()\n",
    "\n",
    "for _, row in fixation_df.iterrows():\n",
    "    participant = row['participant']\n",
    "    trial = str(row['trial'])\n",
    "\n",
    "    csv_filename = f\"{participant}_{trial}.csv\"\n",
    "    csv_path = os.path.join(processed_dir, csv_filename)\n",
    "\n",
    "    if not os.path.exists(csv_path):\n",
    "        continue\n",
    "\n",
    "    df = pd.read_csv(csv_path)\n",
    "    df['time_ms'] = df['rec_time'].apply(time_to_ms)\n",
    "\n",
    "    # handle missing or zero x-y eye position data\n",
    "    df['x'] = pd.to_numeric(df['x'], errors='coerce')\n",
    "    df['y'] = pd.to_numeric(df['y'], errors='coerce')\n",
    "    df.replace({0: np.nan}, inplace=True)\n",
    "\n",
    "    # convert relevant time windows to milliseconds\n",
    "    sign_start = time_to_ms(row.get('sign_visible_t_start'))\n",
    "    sign_end = time_to_ms(row.get('sign_visible_t_end'))\n",
    "    ped_start = time_to_ms(row.get('ped_visible_t_start'))\n",
    "    ped_end = time_to_ms(row.get('ped_visible_t_end'))\n",
    "\n",
    "    # extract data by each relevant time window and remove rows with no x/y\n",
    "    def get_window_df(start, end):\n",
    "        if start is None or end is None:\n",
    "            return pd.DataFrame(columns=df.columns)\n",
    "        window_df = df[(df['time_ms'] >= start) & (df['time_ms'] <= end)]\n",
    "        return window_df.dropna(subset=['x', 'y'])\n",
    "\n",
    "    sign_df = get_window_df(sign_start, sign_end)\n",
    "    ped_df = get_window_df(ped_start, ped_end)\n",
    "\n",
    "    # count fixations in each window using helper\n",
    "    sign_fix_count = detect_fixations(sign_df)\n",
    "    ped_fix_count = detect_fixations(ped_df)\n",
    "\n",
    "    print(f\"{participant} trial {trial} -- Sign window fixations: {sign_fix_count}, Ped window fixations: {ped_fix_count}\")"
   ]
  },
  {
   "cell_type": "code",
   "execution_count": null,
   "metadata": {},
   "outputs": [],
   "source": []
  }
 ],
 "metadata": {
  "kernelspec": {
   "display_name": "Python 3",
   "language": "python",
   "name": "python3"
  },
  "language_info": {
   "codemirror_mode": {
    "name": "ipython",
    "version": 3
   },
   "file_extension": ".py",
   "mimetype": "text/x-python",
   "name": "python",
   "nbconvert_exporter": "python",
   "pygments_lexer": "ipython3",
   "version": "3.11.3"
  }
 },
 "nbformat": 4,
 "nbformat_minor": 2
}
